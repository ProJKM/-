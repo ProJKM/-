{
  "nbformat": 4,
  "nbformat_minor": 0,
  "metadata": {
    "colab": {
      "name": "2번코드.ipynb",
      "provenance": [],
      "authorship_tag": "ABX9TyN1CmuT7c5l74Kj0lBXyrcu",
      "include_colab_link": true
    },
    "kernelspec": {
      "name": "python3",
      "display_name": "Python 3"
    },
    "language_info": {
      "name": "python"
    },
    "accelerator": "GPU"
  },
  "cells": [
    {
      "cell_type": "markdown",
      "metadata": {
        "id": "view-in-github",
        "colab_type": "text"
      },
      "source": [
        "<a href=\"https://colab.research.google.com/github/ProJKM/machine-learning-studyroom/blob/main/2%EB%B2%88%EC%BD%94%EB%93%9C.ipynb\" target=\"_parent\"><img src=\"https://colab.research.google.com/assets/colab-badge.svg\" alt=\"Open In Colab\"/></a>"
      ]
    },
    {
      "cell_type": "code",
      "metadata": {
        "colab": {
          "base_uri": "https://localhost:8080/"
        },
        "id": "2BbxoKUfSKVP",
        "outputId": "520e391d-16b8-4215-c5ef-8685ee4cfa9d"
      },
      "source": [
        "############ 라이브러리 로드 ############\n",
        "\n",
        "from google.colab import auth \n",
        "auth.authenticate_user()\n",
        "from google.colab import drive \n",
        "drive.mount('/content/gdrive') \n",
        "import numpy as np \n",
        "import tensorflow as tf \n",
        "import matplotlib.pyplot as pit \n",
        "from tensorflow.keras.preprocessing import sequence \n",
        "from tensorflow.keras.models import Sequential \n",
        "from tensorflow.keras.layers import Dense, Dropout, Activation \n",
        "from tensorflow.keras.layers import LSTM \n",
        "from tensorflow.keras.layers import Conv1D, MaxPooling1D, Conv2D, MaxPooling2D, GlobalMaxPooling2D, Bidirectional, Reshape\n",
        "from tensorflow.keras.layers import Flatten \n",
        "from tensorflow.keras.layers import TimeDistributed \n",
        "from tensorflow.keras.layers import RepeatVector \n",
        "from tensorflow.keras.callbacks import EarlyStopping \n",
        "from tensorflow.keras.callbacks import ModelCheckpoint \n",
        "from tensorflow.keras.utils import to_categorical \n",
        "from tensorflow.keras.preprocessing.image import ImageDataGenerator \n",
        "np.random.seed(3)\n",
        "\n",
        "################ 데이터 셋 전처리 ################\n",
        "\n",
        "# ImageDataGenerator 클래스 함수화\n",
        "train_datagen = ImageDataGenerator()\n",
        "test_datagen = ImageDataGenerator()\n",
        "\n",
        "# 데이터셋 임포트\n",
        "# ImageDataGenerator 클래스에서 전처리가 끝남\n",
        "train_generator = train_datagen.flow_from_directory(\n",
        "    '/content/gdrive/MyDrive/Colab Notebooks/chest_xray/train', \n",
        "    target_size=(224, 224), \n",
        "    batch_size=5216, \n",
        "    class_mode='categorical')\n",
        "test_generator = test_datagen.flow_from_directory(\n",
        "    '/content/gdrive/MyDrive/Colab Notebooks/chest_xray/test', \n",
        "    target_size=(224, 224), \n",
        "    batch_size=624, \n",
        "    class_mode='categorical')\n",
        "\n",
        "# 전처리가 끝난 데이터를 함수에 정의\n",
        "x_train, y_train=train_generator.next() \n",
        "x_test, y_test=train_generator.next()\n",
        "\n",
        "################ 모델 구축 및 학습 ################\n",
        "\n",
        "# 학습 모델\n",
        "model = Sequential() \n",
        "# 컨볼루션 레이어, 컨볼루션층, 32개의 필터, 커널사이즈는 (3, 3), 픽셀은 그대로, 활성화 함수는 relu\n",
        "model.add(Conv2D(32, kernel_size=(3, 3), activation='relu', input_shape=(224, 224,3))) \n",
        "# 풀링층, 방식은 맥스풀링\n",
        "model.add(MaxPooling2D(pool_size=(2, 2))) \n",
        "# 컨볼루션 레이어 한번더, 필터는 64개\n",
        "model.add(Conv2D(64, (3, 3), activation='relu')) \n",
        "model.add(MaxPooling2D(pool_size=(2, 2)))\n",
        "# Flatten, 모델 안에서의 reshape, 한줄로 변형\n",
        "model.add(Flatten) \n",
        "# 결과, 활성화 함수는 softtmax\n",
        "model.add(Dense(2, activation='softmax'))\n",
        "# 모델구조 확인\n",
        "model.summary()\n",
        "\n",
        "# 모델 컴파일, loss, optimizer, metrics를 설정 \n",
        "# optimizer는 역전파 진행시 최적화 방식\n",
        "# loss는 손실함수, 데이터를 검증하는 방식\n",
        "# metrics의 경우 분류문제이기 때문에 accuracy\n",
        "model.compile(optimizer='adadelta', loss='categorical_crossent ropy', metrics=['accuracy']) \n",
        "# epochs = 반복 횟수\n",
        "epochs = 10 \n",
        "# batch_size = 가중치를 갱신할 데이터의 양\n",
        "batch_size=100\n",
        "\n",
        "# 3번 연속으로 loss값이 하락하지 않을경우 중단, 과적합 방지\n",
        "early_stopping = EarlyStopping(monitor='loss', patience=3) \n",
        "# 모델 학습\n",
        "# verbose = 학습 진행도 노출설정, validation_data = 검증데이터셋, callbacks = epoch마다 사용되는 검증데이터 수\n",
        "model,fit(x_train, y_train, batch_size=batch_size, epochs=epochs, verbose=1, validation_data=(x_test, y_test)\n",
        ",callbacks=[early_stopping])\n",
        "\n",
        "################ 결과 ################\n",
        "\n",
        "# 학습 검증, 평가\n",
        "score = model.evaluate(x_test, y_test, verbose=0) \n",
        "\n",
        "# 출력\n",
        "print('Test loss:', score[0]) \n",
        "print('Test accuracy:', score[1])\n"
      ],
      "execution_count": null,
      "outputs": [
        {
          "output_type": "stream",
          "name": "stdout",
          "text": [
            "Drive already mounted at /content/gdrive; to attempt to forcibly remount, call drive.mount(\"/content/gdrive\", force_remount=True).\n",
            "Found 5216 images belonging to 2 classes.\n",
            "Found 624 images belonging to 2 classes.\n"
          ]
        }
      ]
    }
  ]
}